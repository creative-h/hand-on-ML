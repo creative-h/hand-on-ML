{
 "cells": [
  {
   "cell_type": "markdown",
   "metadata": {},
   "source": [
    "# Machine learing and pattern recognition for stocks forex "
   ]
  },
  {
   "cell_type": "code",
   "execution_count": 9,
   "metadata": {
    "collapsed": false
   },
   "outputs": [
    {
     "ename": "SyntaxError",
     "evalue": "invalid syntax (<ipython-input-9-f023ce226bdf>, line 8)",
     "output_type": "error",
     "traceback": [
      "\u001b[1;36m  File \u001b[1;32m\"<ipython-input-9-f023ce226bdf>\"\u001b[1;36m, line \u001b[1;32m8\u001b[0m\n\u001b[1;33m    dates,bid ask = np.loadtxt('GBPUSD1d, unpack= true,delimiter=',', converters ={0:mdates.strpdate2num('%Y%m%d%H%M%S')}\u001b[0m\n\u001b[1;37m                ^\u001b[0m\n\u001b[1;31mSyntaxError\u001b[0m\u001b[1;31m:\u001b[0m invalid syntax\n"
     ]
    }
   ],
   "source": [
    "import matplotlib\n",
    "import matplotlib.pyplot as plt\n",
    "import matplotlib.ticker as mticker\n",
    "import matplotlib.dates as mdates\n",
    "import numpy as np\n",
    "\n",
    "def graphRawFX():\n",
    "     dates,bid ask = np.loadtxt('GBPUSD1d, unpack= true,delimiter=',', converters ={0:mdates.strpdate2num('%Y%m%d%H%M%S')}\n",
    "                                fig = plt.figure(figsize=(10,7))\n",
    "                                axq = plt.subplot2grid((40,40),(0,0), rowspan=40, colspan=40)\n",
    "                                \n",
    "                                ax1.plot(date,bid)\n",
    "                                ax1.plot(date,ask)\n",
    "                                \n",
    "                                ax1.xaxis.set_major_formatter(mdates.DateFromatter('%Y-%m-%d %H:%M:%S'))\n",
    "                                for label in ax1.xaxis.get_ticklabels():\n",
    "                                    label.set_rotation(45)\n",
    "                                plt.gca().get_yaxis().get_major_formatter().set_useOffset(False)\n",
    "                                \n",
    "                                plt.grid(True)\n",
    "                                plt.show()"
   ]
  },
  {
   "cell_type": "code",
   "execution_count": 5,
   "metadata": {
    "collapsed": false
   },
   "outputs": [
    {
     "name": "stdout",
     "output_type": "stream",
     "text": [
      "True\n",
      "False\n",
      "False\n",
      "True\n"
     ]
    }
   ],
   "source": [
    "x = [1,2,3,4]\n",
    "y = [0,1,4,5]\n",
    "for z in x:\n",
    "    print(z in y)"
   ]
  },
  {
   "cell_type": "code",
   "execution_count": 3,
   "metadata": {
    "collapsed": false
   },
   "outputs": [
    {
     "data": {
      "text/plain": [
       "5"
      ]
     },
     "execution_count": 3,
     "metadata": {},
     "output_type": "execute_result"
    }
   ],
   "source": [
    "z"
   ]
  },
  {
   "cell_type": "code",
   "execution_count": null,
   "metadata": {
    "collapsed": true
   },
   "outputs": [],
   "source": []
  }
 ],
 "metadata": {
  "anaconda-cloud": {},
  "kernelspec": {
   "display_name": "Python [Root]",
   "language": "python",
   "name": "Python [Root]"
  },
  "language_info": {
   "codemirror_mode": {
    "name": "ipython",
    "version": 3
   },
   "file_extension": ".py",
   "mimetype": "text/x-python",
   "name": "python",
   "nbconvert_exporter": "python",
   "pygments_lexer": "ipython3",
   "version": "3.5.2"
  }
 },
 "nbformat": 4,
 "nbformat_minor": 0
}
